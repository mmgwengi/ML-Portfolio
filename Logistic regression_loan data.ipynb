{
 "cells": [
  {
   "cell_type": "code",
   "execution_count": 44,
   "metadata": {},
   "outputs": [],
   "source": [
    "# Load packages and libraries\n",
    "import os \n",
    "import numpy as np \n",
    "from pathlib import Path\n",
    "import pandas as pd\n",
    "from matplotlib import pyplot as plt\n",
    "import seaborn as sns\n",
    "from sklearn.linear_model import LinearRegression\n",
    "from sklearn.linear_model import LogisticRegression\n",
    "from sklearn.tree import DecisionTreeClassifier\n",
    "from sklearn.model_selection import train_test_split\n",
    "from sklearn.metrics import r2_score, explained_variance_score, confusion_matrix, accuracy_score, classification_report, log_loss\n",
    "from math import sqrt\n",
    "\n",
    "%matplotlib inline\n",
    "\n",
    "# To change scientific numbers to float\n",
    "np.set_printoptions(formatter={'float_kind':'{:f}'.format})\n",
    "\n",
    "# Increases the size of sns plots\n",
    "sns.set(rc={'figure.figsize':(12,10)})"
   ]
  },
  {
   "cell_type": "code",
   "execution_count": 45,
   "metadata": {},
   "outputs": [
    {
     "data": {
      "text/html": [
       "<div>\n",
       "<style scoped>\n",
       "    .dataframe tbody tr th:only-of-type {\n",
       "        vertical-align: middle;\n",
       "    }\n",
       "\n",
       "    .dataframe tbody tr th {\n",
       "        vertical-align: top;\n",
       "    }\n",
       "\n",
       "    .dataframe thead th {\n",
       "        text-align: right;\n",
       "    }\n",
       "</style>\n",
       "<table border=\"1\" class=\"dataframe\">\n",
       "  <thead>\n",
       "    <tr style=\"text-align: right;\">\n",
       "      <th></th>\n",
       "      <th>Type of Account</th>\n",
       "      <th>Account History</th>\n",
       "      <th>Reason for the Loan</th>\n",
       "      <th>Loan Amount</th>\n",
       "      <th>Account Savings</th>\n",
       "      <th>Employment History</th>\n",
       "      <th>Individual Stauts</th>\n",
       "      <th>Other Loans</th>\n",
       "      <th>Security / Collateral</th>\n",
       "      <th>Age</th>\n",
       "      <th>Residence Status</th>\n",
       "      <th>Job</th>\n",
       "      <th>Completed Other loan?</th>\n",
       "      <th>Good Loan</th>\n",
       "    </tr>\n",
       "  </thead>\n",
       "  <tbody>\n",
       "    <tr>\n",
       "      <th>0</th>\n",
       "      <td>No Data</td>\n",
       "      <td>critical</td>\n",
       "      <td>Learning / Edu purposes</td>\n",
       "      <td>2116</td>\n",
       "      <td>0-200</td>\n",
       "      <td>5-7 Years</td>\n",
       "      <td>Male</td>\n",
       "      <td>No</td>\n",
       "      <td>Property - Real Estate</td>\n",
       "      <td>47</td>\n",
       "      <td>House Owner</td>\n",
       "      <td>Services</td>\n",
       "      <td>No</td>\n",
       "      <td>No</td>\n",
       "    </tr>\n",
       "    <tr>\n",
       "      <th>1</th>\n",
       "      <td>No Data</td>\n",
       "      <td>critical</td>\n",
       "      <td>TV</td>\n",
       "      <td>2438</td>\n",
       "      <td>No Data</td>\n",
       "      <td>7+ Years</td>\n",
       "      <td>Male</td>\n",
       "      <td>No</td>\n",
       "      <td>Savings Account</td>\n",
       "      <td>52</td>\n",
       "      <td>House Owner</td>\n",
       "      <td>Skilled Labor</td>\n",
       "      <td>No</td>\n",
       "      <td>No</td>\n",
       "    </tr>\n",
       "    <tr>\n",
       "      <th>2</th>\n",
       "      <td>No Data</td>\n",
       "      <td>critical</td>\n",
       "      <td>Buying a New Car</td>\n",
       "      <td>2144</td>\n",
       "      <td>0-200</td>\n",
       "      <td>2-5 Years</td>\n",
       "      <td>Male</td>\n",
       "      <td>No</td>\n",
       "      <td>Vehicle</td>\n",
       "      <td>48</td>\n",
       "      <td>House Owner</td>\n",
       "      <td>Skilled Labor</td>\n",
       "      <td>No</td>\n",
       "      <td>No</td>\n",
       "    </tr>\n",
       "    <tr>\n",
       "      <th>3</th>\n",
       "      <td>No Data</td>\n",
       "      <td>critical</td>\n",
       "      <td>Home furniture</td>\n",
       "      <td>2073</td>\n",
       "      <td>No Data</td>\n",
       "      <td>2-5 Years</td>\n",
       "      <td>Married</td>\n",
       "      <td>No</td>\n",
       "      <td>Vehicle</td>\n",
       "      <td>25</td>\n",
       "      <td>House Owner</td>\n",
       "      <td>Skilled Labor</td>\n",
       "      <td>Yes</td>\n",
       "      <td>No</td>\n",
       "    </tr>\n",
       "    <tr>\n",
       "      <th>4</th>\n",
       "      <td>No Data</td>\n",
       "      <td>critical</td>\n",
       "      <td>Support for Business</td>\n",
       "      <td>1276</td>\n",
       "      <td>No Data</td>\n",
       "      <td>7+ Years</td>\n",
       "      <td>Male</td>\n",
       "      <td>No</td>\n",
       "      <td>No Security</td>\n",
       "      <td>59</td>\n",
       "      <td>Renting</td>\n",
       "      <td>Services</td>\n",
       "      <td>No</td>\n",
       "      <td>No</td>\n",
       "    </tr>\n",
       "  </tbody>\n",
       "</table>\n",
       "</div>"
      ],
      "text/plain": [
       "  Type of Account Account History      Reason for the Loan Loan Amount  \\\n",
       "0         No Data        critical  Learning / Edu purposes        2116   \n",
       "1         No Data        critical                       TV        2438   \n",
       "2         No Data        critical         Buying a New Car        2144   \n",
       "3         No Data        critical           Home furniture        2073   \n",
       "4         No Data        critical     Support for Business        1276   \n",
       "\n",
       "  Account Savings Employment History Individual Stauts Other Loans  \\\n",
       "0           0-200          5-7 Years              Male          No   \n",
       "1         No Data           7+ Years              Male          No   \n",
       "2           0-200          2-5 Years              Male          No   \n",
       "3         No Data          2-5 Years           Married          No   \n",
       "4         No Data           7+ Years              Male          No   \n",
       "\n",
       "    Security / Collateral Age Residence Status            Job  \\\n",
       "0  Property - Real Estate  47      House Owner       Services   \n",
       "1         Savings Account  52      House Owner  Skilled Labor   \n",
       "2                 Vehicle  48      House Owner  Skilled Labor   \n",
       "3                 Vehicle  25      House Owner  Skilled Labor   \n",
       "4             No Security  59          Renting       Services   \n",
       "\n",
       "  Completed Other loan? Good Loan  \n",
       "0                    No        No  \n",
       "1                    No        No  \n",
       "2                    No        No  \n",
       "3                   Yes        No  \n",
       "4                    No        No  "
      ]
     },
     "execution_count": 45,
     "metadata": {},
     "output_type": "execute_result"
    }
   ],
   "source": [
    "raw_data=pd.read_csv(Path('DATA\\\\loan_data.csv'),dtype=str)\n",
    "raw_data.head()"
   ]
  },
  {
   "cell_type": "code",
   "execution_count": 41,
   "metadata": {},
   "outputs": [
    {
     "data": {
      "text/plain": [
       "Type of Account          0\n",
       "Account History          2\n",
       "Reason for the Loan      3\n",
       "Loan Amount              3\n",
       "Account Savings          4\n",
       "Employment History       0\n",
       "Individual Stauts        5\n",
       "Other Loans              5\n",
       "Security / Collateral    5\n",
       "Age                      4\n",
       "Residence Status         4\n",
       "Job                      4\n",
       "Completed Other loan?    4\n",
       "Good Loan                5\n",
       "dtype: int64"
      ]
     },
     "execution_count": 41,
     "metadata": {},
     "output_type": "execute_result"
    }
   ],
   "source": [
    "# Check for missing values\n",
    "raw_data.isnull().sum()"
   ]
  },
  {
   "cell_type": "code",
   "execution_count": 43,
   "metadata": {},
   "outputs": [
    {
     "data": {
      "text/html": [
       "<div>\n",
       "<style scoped>\n",
       "    .dataframe tbody tr th:only-of-type {\n",
       "        vertical-align: middle;\n",
       "    }\n",
       "\n",
       "    .dataframe tbody tr th {\n",
       "        vertical-align: top;\n",
       "    }\n",
       "\n",
       "    .dataframe thead th {\n",
       "        text-align: right;\n",
       "    }\n",
       "</style>\n",
       "<table border=\"1\" class=\"dataframe\">\n",
       "  <thead>\n",
       "    <tr style=\"text-align: right;\">\n",
       "      <th></th>\n",
       "      <th>Type of Account</th>\n",
       "      <th>Account History</th>\n",
       "      <th>Reason for the Loan</th>\n",
       "      <th>Loan Amount</th>\n",
       "      <th>Account Savings</th>\n",
       "      <th>Employment History</th>\n",
       "      <th>Individual Stauts</th>\n",
       "      <th>Other Loans</th>\n",
       "      <th>Security / Collateral</th>\n",
       "      <th>Age</th>\n",
       "      <th>Residence Status</th>\n",
       "      <th>Job</th>\n",
       "      <th>Completed Other loan?</th>\n",
       "      <th>Good Loan</th>\n",
       "    </tr>\n",
       "  </thead>\n",
       "  <tbody>\n",
       "    <tr>\n",
       "      <th>686</th>\n",
       "      <td>Type C</td>\n",
       "      <td>Good</td>\n",
       "      <td>Buying a New Car</td>\n",
       "      <td>NaN</td>\n",
       "      <td>NaN</td>\n",
       "      <td>nan</td>\n",
       "      <td>NaN</td>\n",
       "      <td>NaN</td>\n",
       "      <td>NaN</td>\n",
       "      <td>NaN</td>\n",
       "      <td>NaN</td>\n",
       "      <td>NaN</td>\n",
       "      <td>NaN</td>\n",
       "      <td>NaN</td>\n",
       "    </tr>\n",
       "    <tr>\n",
       "      <th>721</th>\n",
       "      <td>Type C</td>\n",
       "      <td>critical</td>\n",
       "      <td>Home furniture</td>\n",
       "      <td>5387</td>\n",
       "      <td>NaN</td>\n",
       "      <td>nan</td>\n",
       "      <td>NaN</td>\n",
       "      <td>NaN</td>\n",
       "      <td>NaN</td>\n",
       "      <td>NaN</td>\n",
       "      <td>NaN</td>\n",
       "      <td>NaN</td>\n",
       "      <td>NaN</td>\n",
       "      <td>NaN</td>\n",
       "    </tr>\n",
       "    <tr>\n",
       "      <th>737</th>\n",
       "      <td>Type C</td>\n",
       "      <td>Good</td>\n",
       "      <td>NaN</td>\n",
       "      <td>NaN</td>\n",
       "      <td>NaN</td>\n",
       "      <td>nan</td>\n",
       "      <td>NaN</td>\n",
       "      <td>NaN</td>\n",
       "      <td>NaN</td>\n",
       "      <td>NaN</td>\n",
       "      <td>NaN</td>\n",
       "      <td>NaN</td>\n",
       "      <td>NaN</td>\n",
       "      <td>NaN</td>\n",
       "    </tr>\n",
       "    <tr>\n",
       "      <th>1004</th>\n",
       "      <td>nan</td>\n",
       "      <td>NaN</td>\n",
       "      <td>NaN</td>\n",
       "      <td>NaN</td>\n",
       "      <td>NaN</td>\n",
       "      <td>nan</td>\n",
       "      <td>NaN</td>\n",
       "      <td>NaN</td>\n",
       "      <td>NaN</td>\n",
       "      <td>43</td>\n",
       "      <td>House Owner</td>\n",
       "      <td>Services</td>\n",
       "      <td>No</td>\n",
       "      <td>NaN</td>\n",
       "    </tr>\n",
       "    <tr>\n",
       "      <th>1005</th>\n",
       "      <td>nan</td>\n",
       "      <td>NaN</td>\n",
       "      <td>NaN</td>\n",
       "      <td>1765</td>\n",
       "      <td>0-201</td>\n",
       "      <td>nan</td>\n",
       "      <td>NaN</td>\n",
       "      <td>NaN</td>\n",
       "      <td>NaN</td>\n",
       "      <td>NaN</td>\n",
       "      <td>NaN</td>\n",
       "      <td>NaN</td>\n",
       "      <td>NaN</td>\n",
       "      <td>NaN</td>\n",
       "    </tr>\n",
       "  </tbody>\n",
       "</table>\n",
       "</div>"
      ],
      "text/plain": [
       "     Type of Account Account History Reason for the Loan Loan Amount  \\\n",
       "686           Type C            Good    Buying a New Car         NaN   \n",
       "721           Type C        critical      Home furniture        5387   \n",
       "737           Type C            Good                 NaN         NaN   \n",
       "1004             nan             NaN                 NaN         NaN   \n",
       "1005             nan             NaN                 NaN        1765   \n",
       "\n",
       "     Account Savings Employment History Individual Stauts Other Loans  \\\n",
       "686              NaN                nan               NaN         NaN   \n",
       "721              NaN                nan               NaN         NaN   \n",
       "737              NaN                nan               NaN         NaN   \n",
       "1004             NaN                nan               NaN         NaN   \n",
       "1005           0-201                nan               NaN         NaN   \n",
       "\n",
       "     Security / Collateral  Age Residence Status       Job  \\\n",
       "686                    NaN  NaN              NaN       NaN   \n",
       "721                    NaN  NaN              NaN       NaN   \n",
       "737                    NaN  NaN              NaN       NaN   \n",
       "1004                   NaN   43      House Owner  Services   \n",
       "1005                   NaN  NaN              NaN       NaN   \n",
       "\n",
       "     Completed Other loan? Good Loan  \n",
       "686                    NaN       NaN  \n",
       "721                    NaN       NaN  \n",
       "737                    NaN       NaN  \n",
       "1004                    No       NaN  \n",
       "1005                   NaN       NaN  "
      ]
     },
     "execution_count": 43,
     "metadata": {},
     "output_type": "execute_result"
    }
   ],
   "source": [
    "#check if the missing rows are the same for each the features\n",
    "raw_data[raw_data['Individual Stauts'].isnull()]"
   ]
  },
  {
   "cell_type": "code",
   "execution_count": 48,
   "metadata": {},
   "outputs": [
    {
     "name": "stdout",
     "output_type": "stream",
     "text": [
      "(1001, 14)\n"
     ]
    },
    {
     "data": {
      "text/plain": [
       "Type of Account          0\n",
       "Account History          0\n",
       "Reason for the Loan      0\n",
       "Loan Amount              0\n",
       "Account Savings          0\n",
       "Employment History       0\n",
       "Individual Stauts        0\n",
       "Other Loans              0\n",
       "Security / Collateral    0\n",
       "Age                      0\n",
       "Residence Status         0\n",
       "Job                      0\n",
       "Completed Other loan?    0\n",
       "Good Loan                0\n",
       "dtype: int64"
      ]
     },
     "execution_count": 48,
     "metadata": {},
     "output_type": "execute_result"
    }
   ],
   "source": [
    "# Delete the NULL values\n",
    "raw_data = raw_data.dropna(subset = ['Individual Stauts'])\n",
    "\n",
    "print(raw_data.shape)\n",
    "raw_data.isnull().sum()"
   ]
  },
  {
   "cell_type": "code",
   "execution_count": 49,
   "metadata": {},
   "outputs": [
    {
     "name": "stdout",
     "output_type": "stream",
     "text": [
      "The number of values for feature Type of Account is: 4 -- ['No Data' 'Type A' 'Type B' 'Type C']\n",
      "The number of values for feature Account History is: 3 -- ['Average (known delays)' 'Good' 'critical']\n",
      "The number of values for feature Reason for the Loan is: 10 -- ['Advance Edu/training' 'All other' 'Buying a New Car' 'Buying a Used Car'\n",
      " 'Home Devices' 'Home furniture' 'Learning / Edu purposes' 'Renovation'\n",
      " 'Support for Business' 'TV']\n",
      "The number of values for feature Loan Amount is: 911\n",
      "The number of values for feature Account Savings is: 5 -- ['0-200' '1000+' '200-500' '500-1000' 'No Data']\n",
      "The number of values for feature Employment History is: 5 -- ['0-2 Years' '2-5 Years' '5-7 Years' '7+ Years' 'Unemployed']\n",
      "The number of values for feature Individual Stauts is: 5 -- ['Divorced' 'Female' 'Female_' 'Male' 'Married']\n",
      "The number of values for feature Other Loans is: 2 -- ['No' 'Yes']\n",
      "The number of values for feature Security / Collateral is: 4 -- ['No Security' 'Property - Real Estate' 'Savings Account' 'Vehicle']\n",
      "The number of values for feature Age is: 57\n",
      "The number of values for feature Residence Status is: 3 -- ['Free' 'House Owner' 'Renting']\n",
      "The number of values for feature Job is: 4 -- ['Not Employed' 'Professional / Management' 'Services' 'Skilled Labor']\n",
      "The number of values for feature Completed Other loan? is: 2 -- ['No' 'Yes']\n",
      "The number of values for feature Good Loan is: 2 -- ['No' 'Yes']\n"
     ]
    }
   ],
   "source": [
    "# Investigate all the elements within each Feature \n",
    "for column in raw_data:\n",
    "    unique_values = np.unique(raw_data[column])\n",
    "    nr_values = len(unique_values)\n",
    "    if nr_values <= 10:\n",
    "        print(\"The number of values for feature {} is: {} -- {}\".format(column, nr_values, unique_values))\n",
    "    else:\n",
    "        print(\"The number of values for feature {} is: {}\".format(column, nr_values))"
   ]
  },
  {
   "cell_type": "code",
   "execution_count": null,
   "metadata": {},
   "outputs": [],
   "source": [
    "#pairplot of continuous \n",
    "g = sns.pairplot(raw_data[['Loan Amount', 'Age']],hue='Good Loan')\n",
    "\n"
   ]
  },
  {
   "cell_type": "markdown",
   "metadata": {},
   "source": [
    "# Data Cleaning"
   ]
  },
  {
   "cell_type": "code",
   "execution_count": null,
   "metadata": {},
   "outputs": [],
   "source": [
    "# Deleting the outlier\n",
    "raw_data = raw_data[raw_data['Age'] < 100]\n",
    "raw_data.shape"
   ]
  },
  {
   "cell_type": "code",
   "execution_count": null,
   "metadata": {},
   "outputs": [],
   "source": [
    "# pairplot by outcome\n",
    "g = sns.pairplot(raw_data, hue = 'Good Loan')"
   ]
  },
  {
   "cell_type": "code",
   "execution_count": 60,
   "metadata": {},
   "outputs": [
    {
     "data": {
      "text/plain": [
       "<AxesSubplot:xlabel='Good Loan', ylabel='count'>"
      ]
     },
     "execution_count": 60,
     "metadata": {},
     "output_type": "execute_result"
    },
    {
     "data": {
      "image/png": "[encoded data removed]",
      "text/plain": [
       "<Figure size 864x720 with 1 Axes>"
      ]
     },
     "metadata": {},
     "output_type": "display_data"
    }
   ],
   "source": [
    "# Investigating the distr of y\n",
    "sns.countplot(x = 'Good Loan', data = raw_data, palette=('dodgerblue','gray'))"
   ]
  },
  {
   "cell_type": "code",
   "execution_count": null,
   "metadata": {},
   "outputs": [],
   "source": [
    "# Looping through all the features by our y variable - see if there is relationship\n",
    "\n",
    "features = ['Type of Account', 'Account History', 'Reason for the Loan',\n",
    "       'Account Savings', 'Employment History',\n",
    "       'Individual Stauts', 'Other Loans', 'Security / Collateral',\n",
    "       'Residence Status', 'Job', 'Completed Other loan?']\n",
    "\n",
    "for f in features:\n",
    "    sns.countplot(x = f, data = raw_data, palette = ('dodgerblue','gray'), hue = 'Good Loan')\n",
    "    plt.show()"
   ]
  },
  {
   "cell_type": "code",
   "execution_count": 63,
   "metadata": {},
   "outputs": [
    {
     "name": "stdout",
     "output_type": "stream",
     "text": [
      "(1001, 14)\n",
      "(1001, 50)\n"
     ]
    },
    {
     "name": "stderr",
     "output_type": "stream",
     "text": [
      "C:\\Users\\marth\\AppData\\Local\\Temp\\ipykernel_23280\\801748735.py:10: SettingWithCopyWarning: \n",
      "A value is trying to be set on a copy of a slice from a DataFrame\n",
      "\n",
      "See the caveats in the documentation: https://pandas.pydata.org/pandas-docs/stable/user_guide/indexing.html#returning-a-view-versus-a-copy\n",
      "  new_raw_data['Good Loan'][new_raw_data['Good Loan'] == 'Yes'] = 1\n",
      "C:\\Users\\marth\\AppData\\Local\\Temp\\ipykernel_23280\\801748735.py:11: SettingWithCopyWarning: \n",
      "A value is trying to be set on a copy of a slice from a DataFrame\n",
      "\n",
      "See the caveats in the documentation: https://pandas.pydata.org/pandas-docs/stable/user_guide/indexing.html#returning-a-view-versus-a-copy\n",
      "  new_raw_data['Good Loan'][new_raw_data['Good Loan'] == 'No'] = 0\n"
     ]
    },
    {
     "data": {
      "text/html": [
       "<div>\n",
       "<style scoped>\n",
       "    .dataframe tbody tr th:only-of-type {\n",
       "        vertical-align: middle;\n",
       "    }\n",
       "\n",
       "    .dataframe tbody tr th {\n",
       "        vertical-align: top;\n",
       "    }\n",
       "\n",
       "    .dataframe thead th {\n",
       "        text-align: right;\n",
       "    }\n",
       "</style>\n",
       "<table border=\"1\" class=\"dataframe\">\n",
       "  <thead>\n",
       "    <tr style=\"text-align: right;\">\n",
       "      <th></th>\n",
       "      <th>Loan Amount</th>\n",
       "      <th>Age</th>\n",
       "      <th>Good Loan</th>\n",
       "      <th>Type of Account_No Data</th>\n",
       "      <th>Type of Account_Type A</th>\n",
       "      <th>Type of Account_Type B</th>\n",
       "      <th>Type of Account_Type C</th>\n",
       "      <th>Account History_Average (known delays)</th>\n",
       "      <th>Account History_Good</th>\n",
       "      <th>Account History_critical</th>\n",
       "      <th>...</th>\n",
       "      <th>Security / Collateral_Vehicle</th>\n",
       "      <th>Residence Status_Free</th>\n",
       "      <th>Residence Status_House Owner</th>\n",
       "      <th>Residence Status_Renting</th>\n",
       "      <th>Job_Not Employed</th>\n",
       "      <th>Job_Professional / Management</th>\n",
       "      <th>Job_Services</th>\n",
       "      <th>Job_Skilled Labor</th>\n",
       "      <th>Completed Other loan?_No</th>\n",
       "      <th>Completed Other loan?_Yes</th>\n",
       "    </tr>\n",
       "  </thead>\n",
       "  <tbody>\n",
       "    <tr>\n",
       "      <th>0</th>\n",
       "      <td>2116</td>\n",
       "      <td>47</td>\n",
       "      <td>0</td>\n",
       "      <td>1</td>\n",
       "      <td>0</td>\n",
       "      <td>0</td>\n",
       "      <td>0</td>\n",
       "      <td>0</td>\n",
       "      <td>0</td>\n",
       "      <td>1</td>\n",
       "      <td>...</td>\n",
       "      <td>0</td>\n",
       "      <td>0</td>\n",
       "      <td>1</td>\n",
       "      <td>0</td>\n",
       "      <td>0</td>\n",
       "      <td>0</td>\n",
       "      <td>1</td>\n",
       "      <td>0</td>\n",
       "      <td>1</td>\n",
       "      <td>0</td>\n",
       "    </tr>\n",
       "    <tr>\n",
       "      <th>1</th>\n",
       "      <td>2438</td>\n",
       "      <td>52</td>\n",
       "      <td>0</td>\n",
       "      <td>1</td>\n",
       "      <td>0</td>\n",
       "      <td>0</td>\n",
       "      <td>0</td>\n",
       "      <td>0</td>\n",
       "      <td>0</td>\n",
       "      <td>1</td>\n",
       "      <td>...</td>\n",
       "      <td>0</td>\n",
       "      <td>0</td>\n",
       "      <td>1</td>\n",
       "      <td>0</td>\n",
       "      <td>0</td>\n",
       "      <td>0</td>\n",
       "      <td>0</td>\n",
       "      <td>1</td>\n",
       "      <td>1</td>\n",
       "      <td>0</td>\n",
       "    </tr>\n",
       "    <tr>\n",
       "      <th>2</th>\n",
       "      <td>2144</td>\n",
       "      <td>48</td>\n",
       "      <td>0</td>\n",
       "      <td>1</td>\n",
       "      <td>0</td>\n",
       "      <td>0</td>\n",
       "      <td>0</td>\n",
       "      <td>0</td>\n",
       "      <td>0</td>\n",
       "      <td>1</td>\n",
       "      <td>...</td>\n",
       "      <td>1</td>\n",
       "      <td>0</td>\n",
       "      <td>1</td>\n",
       "      <td>0</td>\n",
       "      <td>0</td>\n",
       "      <td>0</td>\n",
       "      <td>0</td>\n",
       "      <td>1</td>\n",
       "      <td>1</td>\n",
       "      <td>0</td>\n",
       "    </tr>\n",
       "    <tr>\n",
       "      <th>3</th>\n",
       "      <td>2073</td>\n",
       "      <td>25</td>\n",
       "      <td>0</td>\n",
       "      <td>1</td>\n",
       "      <td>0</td>\n",
       "      <td>0</td>\n",
       "      <td>0</td>\n",
       "      <td>0</td>\n",
       "      <td>0</td>\n",
       "      <td>1</td>\n",
       "      <td>...</td>\n",
       "      <td>1</td>\n",
       "      <td>0</td>\n",
       "      <td>1</td>\n",
       "      <td>0</td>\n",
       "      <td>0</td>\n",
       "      <td>0</td>\n",
       "      <td>0</td>\n",
       "      <td>1</td>\n",
       "      <td>0</td>\n",
       "      <td>1</td>\n",
       "    </tr>\n",
       "    <tr>\n",
       "      <th>4</th>\n",
       "      <td>1276</td>\n",
       "      <td>59</td>\n",
       "      <td>0</td>\n",
       "      <td>1</td>\n",
       "      <td>0</td>\n",
       "      <td>0</td>\n",
       "      <td>0</td>\n",
       "      <td>0</td>\n",
       "      <td>0</td>\n",
       "      <td>1</td>\n",
       "      <td>...</td>\n",
       "      <td>0</td>\n",
       "      <td>0</td>\n",
       "      <td>0</td>\n",
       "      <td>1</td>\n",
       "      <td>0</td>\n",
       "      <td>0</td>\n",
       "      <td>1</td>\n",
       "      <td>0</td>\n",
       "      <td>1</td>\n",
       "      <td>0</td>\n",
       "    </tr>\n",
       "  </tbody>\n",
       "</table>\n",
       "<p>5 rows × 50 columns</p>\n",
       "</div>"
      ],
      "text/plain": [
       "  Loan Amount Age Good Loan  Type of Account_No Data  Type of Account_Type A  \\\n",
       "0        2116  47         0                        1                       0   \n",
       "1        2438  52         0                        1                       0   \n",
       "2        2144  48         0                        1                       0   \n",
       "3        2073  25         0                        1                       0   \n",
       "4        1276  59         0                        1                       0   \n",
       "\n",
       "   Type of Account_Type B  Type of Account_Type C  \\\n",
       "0                       0                       0   \n",
       "1                       0                       0   \n",
       "2                       0                       0   \n",
       "3                       0                       0   \n",
       "4                       0                       0   \n",
       "\n",
       "   Account History_Average (known delays)  Account History_Good  \\\n",
       "0                                       0                     0   \n",
       "1                                       0                     0   \n",
       "2                                       0                     0   \n",
       "3                                       0                     0   \n",
       "4                                       0                     0   \n",
       "\n",
       "   Account History_critical  ...  Security / Collateral_Vehicle  \\\n",
       "0                         1  ...                              0   \n",
       "1                         1  ...                              0   \n",
       "2                         1  ...                              1   \n",
       "3                         1  ...                              1   \n",
       "4                         1  ...                              0   \n",
       "\n",
       "   Residence Status_Free  Residence Status_House Owner  \\\n",
       "0                      0                             1   \n",
       "1                      0                             1   \n",
       "2                      0                             1   \n",
       "3                      0                             1   \n",
       "4                      0                             0   \n",
       "\n",
       "   Residence Status_Renting  Job_Not Employed  Job_Professional / Management  \\\n",
       "0                         0                 0                              0   \n",
       "1                         0                 0                              0   \n",
       "2                         0                 0                              0   \n",
       "3                         0                 0                              0   \n",
       "4                         1                 0                              0   \n",
       "\n",
       "   Job_Services  Job_Skilled Labor  Completed Other loan?_No  \\\n",
       "0             1                  0                         1   \n",
       "1             0                  1                         1   \n",
       "2             0                  1                         1   \n",
       "3             0                  1                         0   \n",
       "4             1                  0                         1   \n",
       "\n",
       "   Completed Other loan?_Yes  \n",
       "0                          0  \n",
       "1                          0  \n",
       "2                          0  \n",
       "3                          1  \n",
       "4                          0  \n",
       "\n",
       "[5 rows x 50 columns]"
      ]
     },
     "execution_count": 63,
     "metadata": {},
     "output_type": "execute_result"
    }
   ],
   "source": [
    "# encoding categorical variables \n",
    "\n",
    "new_raw_data = pd.get_dummies(raw_data, columns = features)\n",
    "\n",
    "print(raw_data.shape)\n",
    "print(new_raw_data.shape)\n",
    "\n",
    "# Creating a new 0-1 y variable\n",
    "new_raw_data['Good Loan'][new_raw_data['Good Loan'] == 'Yes'] = 1\n",
    "new_raw_data['Good Loan'][new_raw_data['Good Loan'] == 'No'] = 0\n",
    "\n",
    "# Visualizing the data\n",
    "new_raw_data.head()"
   ]
  },
  {
   "cell_type": "markdown",
   "metadata": {},
   "source": [
    "# Feature Selection"
   ]
  },
  {
   "cell_type": "code",
   "execution_count": 65,
   "metadata": {},
   "outputs": [
    {
     "name": "stdout",
     "output_type": "stream",
     "text": [
      "(1001, 49)\n",
      "(1001,)\n"
     ]
    },
    {
     "data": {
      "text/plain": [
       "RandomForestClassifier(random_state=42)"
      ]
     },
     "execution_count": 65,
     "metadata": {},
     "output_type": "execute_result"
    }
   ],
   "source": [
    "from sklearn.ensemble import RandomForestClassifier\n",
    "X = new_raw_data.drop('Good Loan', axis = 1).values\n",
    "y = new_raw_data['Good Loan']\n",
    "\n",
    "y = y.astype(int)\n",
    "\n",
    "print(X.shape)\n",
    "print(y.shape)\n",
    "\n",
    "\n",
    "seed=42 \n",
    "rf = RandomForestClassifier(random_state=seed)\n",
    "rf.fit(X,y)"
   ]
  },
  {
   "cell_type": "code",
   "execution_count": 66,
   "metadata": {},
   "outputs": [
    {
     "data": {
      "image/png": "[encoded data removed]",
      "text/plain": [
       "<Figure size 720x1080 with 1 Axes>"
      ]
     },
     "metadata": {},
     "output_type": "display_data"
    }
   ],
   "source": [
    "feat_importances = pd.Series(rf.feature_importances_, index=new_raw_data.drop('Good Loan', axis=1).columns)\n",
    "feat_importances.sort_values().plot(kind='barh',figsize=(10,15))\n",
    "plt.show()\n",
    "\n",
    "##can remove some of the features with low feature importance"
   ]
  },
  {
   "cell_type": "markdown",
   "metadata": {},
   "source": [
    "# Model Building"
   ]
  },
  {
   "cell_type": "code",
   "execution_count": 69,
   "metadata": {},
   "outputs": [
    {
     "name": "stdout",
     "output_type": "stream",
     "text": [
      "(700, 49)\n",
      "(301, 49)\n",
      "(700,)\n",
      "(301,)\n"
     ]
    }
   ],
   "source": [
    "#split into train and test to avoid overfitting\n",
    "X_train, X_test, y_train, y_test = train_test_split(X, y, test_size=0.3, random_state=seed)\n",
    "print(X_train.shape)\n",
    "print(X_test.shape)\n",
    "\n",
    "print(y_train.shape)\n",
    "print(y_test.shape)\n"
   ]
  },
  {
   "cell_type": "code",
   "execution_count": null,
   "metadata": {},
   "outputs": [],
   "source": [
    "from sklearn.linear_model import LogisticRegressionCV\n",
    "from sklearn.model_selection import KFold\n",
    "#kf = KFold(n_splits=3, random_state=0, shuffle=True)\n",
    "C_List = np.geomspace(1e-5, 1e5, num=20)\n",
    "# Logistic Reg CV\n",
    "log_regcv = LogisticRegressionCV(random_state=seed, Cs = C_List)\n",
    "log_regcv.fit(X_train, y_train)\n",
    "\n",
    "pred_proba_t = log_regcv.predict_proba(X_test)\n",
    "print(\"The optimal C parameter is: \", log_regcv.C_)"
   ]
  },
  {
   "cell_type": "markdown",
   "metadata": {},
   "source": [
    "# Final Model"
   ]
  },
  {
   "cell_type": "code",
   "execution_count": null,
   "metadata": {},
   "outputs": [],
   "source": [
    "log_reg_final = LogisticRegression(random_state=seed, C=20.691381)\n",
    "log_reg_final.fit(X_test, y_test)"
   ]
  },
  {
   "cell_type": "code",
   "execution_count": 108,
   "metadata": {},
   "outputs": [
    {
     "name": "stdout",
     "output_type": "stream",
     "text": [
      "[1 0 1 1 1 1 0 0 0 0]\n",
      "[[0.208931 0.791069]\n",
      " [0.720948 0.279052]\n",
      " [0.133948 0.866052]\n",
      " [0.498013 0.501987]\n",
      " [0.101189 0.898811]\n",
      " [0.254182 0.745818]\n",
      " [0.815993 0.184007]\n",
      " [0.870565 0.129435]\n",
      " [0.711495 0.288505]\n",
      " [0.917161 0.082839]]\n"
     ]
    },
    {
     "data": {
      "text/plain": [
       "array([[-0.000088, 0.014341, -1.327090, 1.034105, 0.465806, -0.273890,\n",
       "        -0.158903, 1.356579, -1.298745, 0.096039, -0.022601, -0.568740,\n",
       "        0.737986, 0.103411, 0.228245, -0.164522, -0.179675, -0.369149,\n",
       "        0.037938, -1.493141, 0.425251, -0.055285, 0.365986, 0.656120,\n",
       "        0.006954, -0.297441, 0.565807, -0.351162, -0.025227, 0.082476,\n",
       "        -0.592332, 0.000000, 0.345985, 0.062803, -0.339570, 0.238501,\n",
       "        -0.745466, 0.357244, 0.044969, 0.242184, -0.432573, 0.312418,\n",
       "        0.019086, -0.108469, 0.306475, -0.035280, -0.263794, -0.165552,\n",
       "        0.064483]])"
      ]
     },
     "execution_count": 108,
     "metadata": {},
     "output_type": "execute_result"
    }
   ],
   "source": [
    "# predict - Predict class labels for samples in X\n",
    "log_reg_final.predict(X_train)\n",
    "y_pred = log_reg_final.predict(X_train)\n",
    "\n",
    "print(y_pred[0:10])\n",
    "# Probability estimates\n",
    "pred_proba = log_reg_final.predict_proba(X_train)\n",
    "print(pred_proba[0:10])\n",
    "# Coefficient of the features in the decision function\n",
    "#log_reg_final.coef_"
   ]
  },
  {
   "cell_type": "markdown",
   "metadata": {},
   "source": [
    "# Evaluate Model"
   ]
  },
  {
   "cell_type": "code",
   "execution_count": 110,
   "metadata": {},
   "outputs": [
    {
     "name": "stdout",
     "output_type": "stream",
     "text": [
      "The Training Accuracy is:  0.7342857142857143\n",
      "The Testing Accuracy is:  0.8305647840531561\n",
      "              precision    recall  f1-score   support\n",
      "\n",
      "           0       0.73      0.79      0.76       369\n",
      "           1       0.74      0.67      0.70       331\n",
      "\n",
      "    accuracy                           0.73       700\n",
      "   macro avg       0.74      0.73      0.73       700\n",
      "weighted avg       0.73      0.73      0.73       700\n",
      "\n",
      "[[292  77]\n",
      " [109 222]]\n"
     ]
    }
   ],
   "source": [
    "# Accuracy on Train\n",
    "print(\"The Training Accuracy is: \", log_reg_final.score(X_train, y_train))\n",
    "\n",
    "# Accuracy on Test\n",
    "print(\"The Testing Accuracy is: \", log_reg_final.score(X_test, y_test))\n",
    "\n",
    "# Classification Report\n",
    "print(classification_report(y_train, y_pred))\n",
    "cm = confusion_matrix(y_train, y_pred)\n",
    "print(cm)"
   ]
  }
 ],
 "metadata": {
  "kernelspec": {
   "display_name": "Python 3 (ipykernel)",
   "language": "python",
   "name": "python3"
  },
  "language_info": {
   "codemirror_mode": {
    "name": "ipython",
    "version": 3
   },
   "file_extension": ".py",
   "mimetype": "text/x-python",
   "name": "python",
   "nbconvert_exporter": "python",
   "pygments_lexer": "ipython3",
   "version": "3.8.5"
  }
 },
 "nbformat": 4,
 "nbformat_minor": 4
}
